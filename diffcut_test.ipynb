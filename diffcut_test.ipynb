{
 "cells": [
  {
   "cell_type": "code",
   "execution_count": null,
   "outputs": [],
   "source": [
    "import os\n",
    "import requests\n",
    "\n",
    "os.environ['http_proxy'] = \"http://127.0.0.1:7891\"\n",
    "os.environ['https_proxy'] = \"http://127.0.0.1:7891\"\n",
    "# 测试，输出200为正常接通\n",
    "response = requests.get('http://www.google.com')\n",
    "print(response.status_code)\n"
   ],
   "metadata": {
    "collapsed": false,
    "ExecuteTime": {
     "start_time": "2024-09-20T16:36:32.234021Z",
     "end_time": "2024-09-20T16:36:32.715403Z"
    }
   }
  },
  {
   "cell_type": "code",
   "execution_count": null,
   "outputs": [],
   "source": [
    "%cd /data/ypq/DiffusionPainter/DiffCut"
   ],
   "metadata": {
    "collapsed": false,
    "ExecuteTime": {
     "start_time": "2024-09-20T16:36:32.716409Z",
     "end_time": "2024-09-20T16:36:32.724128Z"
    }
   }
  },
  {
   "cell_type": "code",
   "execution_count": null,
   "metadata": {
    "ExecuteTime": {
     "start_time": "2024-09-20T16:36:32.722100Z",
     "end_time": "2024-09-20T16:36:35.206663Z"
    }
   },
   "outputs": [],
   "source": [
    "from diffcut.ldm import LdmExtractor"
   ]
  },
  {
   "cell_type": "code",
   "execution_count": null,
   "metadata": {
    "ExecuteTime": {
     "start_time": "2024-09-20T16:36:35.206663Z",
     "end_time": "2024-09-20T16:36:35.206663Z"
    }
   },
   "outputs": [],
   "source": [
    "def mask_refinement(labels, image):\n",
    "    masks = torch.cat([1. * (labels == label) for label in torch.unique(labels)], dim=1)\n",
    "    # num_iter and dilations impact final result\n",
    "    labels = PAMR(num_iter=30, dilations=[1, 2, 4, 8, 12, 24, 32])(image, masks)\n",
    "\n",
    "    labels = 1. * torch.argmax(labels, dim=1)\n",
    "    labels = median_filter(labels.cpu().numpy(), 3).astype(int)\n",
    "\n",
    "    return labels"
   ]
  },
  {
   "cell_type": "markdown",
   "metadata": {},
   "source": [
    "#### __Load Diffusion Model__"
   ]
  },
  {
   "cell_type": "code",
   "execution_count": null,
   "metadata": {
    "ExecuteTime": {
     "start_time": "2024-09-20T16:36:35.206663Z",
     "end_time": "2024-09-20T16:36:39.260229Z"
    }
   },
   "outputs": [],
   "source": [
    "extractor = LdmExtractor(model_name=\"SSD-1B\", inverse_scheduler=None)"
   ]
  },
  {
   "cell_type": "markdown",
   "metadata": {},
   "source": [
    "#### __Diffusion Features Extraction__"
   ]
  },
  {
   "cell_type": "code",
   "execution_count": null,
   "metadata": {
    "ExecuteTime": {
     "start_time": "2024-09-20T16:36:39.266512Z",
     "end_time": "2024-09-20T16:36:39.994496Z"
    }
   },
   "outputs": [],
   "source": [
    "from utils_diffcut import *\n",
    "img_path = \"./assets/iceland.png\"\n",
    "\n",
    "pil_img = Image.open(img_path).convert('RGB')\n",
    "image = T.ToTensor()(pil_img).unsqueeze(0).to(\"cuda\")\n",
    "_, _, h, w = image.shape\n",
    "\n",
    "img_size = 1024  # 2048\n",
    "\n",
    "resized_image = F.interpolate(image, size=(img_size, img_size), mode='bilinear')\n",
    "batched_input = {'img': torch.cat([resized_image], dim=0), 'caption': [\"\"]}\n",
    "\n",
    "# Diffusion Timesteps\n",
    "t = 50\n",
    "diffusion_features = extractor(batched_input, guidance_scale=1., n_steps=10, steps=(t,), encode_method=\"noise\")\n",
    "\n",
    "# Output features from the final self-attention block of the UNet encoder\n",
    "features = diffusion_features['down_blocks.2.attentions.1.transformer_blocks.3']  # MODULE INDEX STARTING FROM '0'\n",
    "print(features.shape)"
   ]
  },
  {
   "cell_type": "markdown",
   "metadata": {},
   "source": [
    "#### __Zero-Shot Image Segmentation__"
   ]
  },
  {
   "cell_type": "code",
   "execution_count": null,
   "metadata": {
    "ExecuteTime": {
     "start_time": "2024-09-20T16:36:39.988810Z",
     "end_time": "2024-09-20T16:36:41.141943Z"
    }
   },
   "outputs": [],
   "source": [
    "# Hyperparameters\n",
    "tau = 0.5\n",
    "alpha = 10\n",
    "\n",
    "\n",
    "# Recursive Feature Clustering\n",
    "feats = features.reshape(1, img_size//32, img_size//32, -1).permute(0, 3, 1, 2).to(torch.float32)\n",
    "feats = F.normalize(feats, dim=1)\n",
    "diffcut  = DiffCut()\n",
    "\n",
    "\n",
    "clusters, feats_norm = diffcut.generate_clusters(feats, tau, alpha)\n",
    "cluster_mask = diffcut.label_association(clusters[0], feats_norm, org_size=(h, w))\n",
    "cluster_mask = torch.Tensor(cluster_mask).to(\"cuda\")\n",
    "print(cluster_mask.shape)"
   ]
  },
  {
   "cell_type": "code",
   "execution_count": null,
   "metadata": {
    "ExecuteTime": {
     "start_time": "2024-09-20T16:36:41.136648Z",
     "end_time": "2024-09-20T16:36:41.683463Z"
    }
   },
   "outputs": [],
   "source": [
    "# Mask Refinement\n",
    "# TODO: img_size is the needed canvas size\n",
    "image = F.interpolate(image, size=(img_size, img_size), mode='bilinear')\n",
    "refined_single_mask = single_mask_refinement(cluster_mask, image)\n",
    "\n",
    "plt.figure(figsize=(6, 6))\n",
    "plt.imshow(refined_single_mask, cmap='gray')  # Use gray colormap for binary mask visualization\n",
    "plt.title('Refined Mask')\n",
    "plt.axis('off')  # Hide axes for better visual representation\n",
    "plt.show()\n"
   ]
  }
 ],
 "metadata": {
  "kernelspec": {
   "display_name": "diffseg",
   "language": "python",
   "name": "python3"
  },
  "language_info": {
   "codemirror_mode": {
    "name": "ipython",
    "version": 3
   },
   "file_extension": ".py",
   "mimetype": "text/x-python",
   "name": "python",
   "nbconvert_exporter": "python",
   "pygments_lexer": "ipython3",
   "version": "3.10.10"
  }
 },
 "nbformat": 4,
 "nbformat_minor": 2
}
